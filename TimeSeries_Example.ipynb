{
  "nbformat": 4,
  "nbformat_minor": 0,
  "metadata": {
    "colab": {
      "name": "TimeSeries_Example.ipynb",
      "provenance": [],
      "authorship_tag": "ABX9TyMplKb8ZOBBndxSQXy6V05l"
    },
    "kernelspec": {
      "name": "python3",
      "display_name": "Python 3"
    },
    "language_info": {
      "name": "python"
    }
  },
  "cells": [
    {
      "cell_type": "code",
      "metadata": {
        "id": "X4SupAZ5OIuh"
      },
      "source": [
        "# 참조\n",
        "# https://ichi.pro/ko/scikit-pandas-mich-numpyleul-sayonghan-sigyeyeol-modelling-114547776927953"
      ],
      "execution_count": null,
      "outputs": []
    },
    {
      "cell_type": "code",
      "metadata": {
        "colab": {
          "base_uri": "https://localhost:8080/",
          "height": 454
        },
        "id": "rhwdGt5qrs7A",
        "outputId": "8579a1bb-1a9c-46e6-fb13-26624abd31ae"
      },
      "source": [
        "import pandas as pd\n",
        "import numpy as np\n",
        "\n",
        "url='https://raw.githubusercontent.com/jenfly/opsd/master/opsd_germany_daily.csv'\n",
        "data = pd.read_csv(url,sep=\",\")\n",
        "data['Date'] = pd.to_datetime(data['Date'])\n",
        "data = data.set_index('Date')\n",
        "data"
      ],
      "execution_count": null,
      "outputs": [
        {
          "output_type": "execute_result",
          "data": {
            "text/html": [
              "<div>\n",
              "<style scoped>\n",
              "    .dataframe tbody tr th:only-of-type {\n",
              "        vertical-align: middle;\n",
              "    }\n",
              "\n",
              "    .dataframe tbody tr th {\n",
              "        vertical-align: top;\n",
              "    }\n",
              "\n",
              "    .dataframe thead th {\n",
              "        text-align: right;\n",
              "    }\n",
              "</style>\n",
              "<table border=\"1\" class=\"dataframe\">\n",
              "  <thead>\n",
              "    <tr style=\"text-align: right;\">\n",
              "      <th></th>\n",
              "      <th>Consumption</th>\n",
              "      <th>Wind</th>\n",
              "      <th>Solar</th>\n",
              "      <th>Wind+Solar</th>\n",
              "    </tr>\n",
              "    <tr>\n",
              "      <th>Date</th>\n",
              "      <th></th>\n",
              "      <th></th>\n",
              "      <th></th>\n",
              "      <th></th>\n",
              "    </tr>\n",
              "  </thead>\n",
              "  <tbody>\n",
              "    <tr>\n",
              "      <th>2006-01-01</th>\n",
              "      <td>1069.18400</td>\n",
              "      <td>NaN</td>\n",
              "      <td>NaN</td>\n",
              "      <td>NaN</td>\n",
              "    </tr>\n",
              "    <tr>\n",
              "      <th>2006-01-02</th>\n",
              "      <td>1380.52100</td>\n",
              "      <td>NaN</td>\n",
              "      <td>NaN</td>\n",
              "      <td>NaN</td>\n",
              "    </tr>\n",
              "    <tr>\n",
              "      <th>2006-01-03</th>\n",
              "      <td>1442.53300</td>\n",
              "      <td>NaN</td>\n",
              "      <td>NaN</td>\n",
              "      <td>NaN</td>\n",
              "    </tr>\n",
              "    <tr>\n",
              "      <th>2006-01-04</th>\n",
              "      <td>1457.21700</td>\n",
              "      <td>NaN</td>\n",
              "      <td>NaN</td>\n",
              "      <td>NaN</td>\n",
              "    </tr>\n",
              "    <tr>\n",
              "      <th>2006-01-05</th>\n",
              "      <td>1477.13100</td>\n",
              "      <td>NaN</td>\n",
              "      <td>NaN</td>\n",
              "      <td>NaN</td>\n",
              "    </tr>\n",
              "    <tr>\n",
              "      <th>...</th>\n",
              "      <td>...</td>\n",
              "      <td>...</td>\n",
              "      <td>...</td>\n",
              "      <td>...</td>\n",
              "    </tr>\n",
              "    <tr>\n",
              "      <th>2017-12-27</th>\n",
              "      <td>1263.94091</td>\n",
              "      <td>394.507</td>\n",
              "      <td>16.530</td>\n",
              "      <td>411.037</td>\n",
              "    </tr>\n",
              "    <tr>\n",
              "      <th>2017-12-28</th>\n",
              "      <td>1299.86398</td>\n",
              "      <td>506.424</td>\n",
              "      <td>14.162</td>\n",
              "      <td>520.586</td>\n",
              "    </tr>\n",
              "    <tr>\n",
              "      <th>2017-12-29</th>\n",
              "      <td>1295.08753</td>\n",
              "      <td>584.277</td>\n",
              "      <td>29.854</td>\n",
              "      <td>614.131</td>\n",
              "    </tr>\n",
              "    <tr>\n",
              "      <th>2017-12-30</th>\n",
              "      <td>1215.44897</td>\n",
              "      <td>721.247</td>\n",
              "      <td>7.467</td>\n",
              "      <td>728.714</td>\n",
              "    </tr>\n",
              "    <tr>\n",
              "      <th>2017-12-31</th>\n",
              "      <td>1107.11488</td>\n",
              "      <td>721.176</td>\n",
              "      <td>19.980</td>\n",
              "      <td>741.156</td>\n",
              "    </tr>\n",
              "  </tbody>\n",
              "</table>\n",
              "<p>4383 rows × 4 columns</p>\n",
              "</div>"
            ],
            "text/plain": [
              "            Consumption     Wind   Solar  Wind+Solar\n",
              "Date                                                \n",
              "2006-01-01   1069.18400      NaN     NaN         NaN\n",
              "2006-01-02   1380.52100      NaN     NaN         NaN\n",
              "2006-01-03   1442.53300      NaN     NaN         NaN\n",
              "2006-01-04   1457.21700      NaN     NaN         NaN\n",
              "2006-01-05   1477.13100      NaN     NaN         NaN\n",
              "...                 ...      ...     ...         ...\n",
              "2017-12-27   1263.94091  394.507  16.530     411.037\n",
              "2017-12-28   1299.86398  506.424  14.162     520.586\n",
              "2017-12-29   1295.08753  584.277  29.854     614.131\n",
              "2017-12-30   1215.44897  721.247   7.467     728.714\n",
              "2017-12-31   1107.11488  721.176  19.980     741.156\n",
              "\n",
              "[4383 rows x 4 columns]"
            ]
          },
          "metadata": {},
          "execution_count": 2
        }
      ]
    },
    {
      "cell_type": "code",
      "metadata": {
        "id": "giDAjHpfs9Ps"
      },
      "source": [
        "# 성능 평가 함수\n",
        "\n",
        "import sklearn.metrics as metrics\n",
        "def regression_results(y_true, y_pred):\n",
        "# Regression metrics\n",
        "    explained_variance=metrics.explained_variance_score(y_true, y_pred)\n",
        "    mean_absolute_error=metrics.mean_absolute_error(y_true, y_pred) \n",
        "    mse=metrics.mean_squared_error(y_true, y_pred) \n",
        "    mean_squared_log_error=metrics.mean_squared_log_error(y_true, y_pred)\n",
        "    median_absolute_error=metrics.median_absolute_error(y_true, y_pred)\n",
        "    r2=metrics.r2_score(y_true, y_pred)\n",
        "    \n",
        "    print('explained_variance: ', round(explained_variance,4))    \n",
        "    print('mean_squared_log_error: ', round(mean_squared_log_error,4))\n",
        "    print('r2: ', round(r2,4))\n",
        "    print('MAE: ', round(mean_absolute_error,4))\n",
        "    print('MSE: ', round(mse,4))\n",
        "    print('RMSE: ', round(np.sqrt(mse),4))"
      ],
      "execution_count": null,
      "outputs": []
    },
    {
      "cell_type": "code",
      "metadata": {
        "colab": {
          "base_uri": "https://localhost:8080/"
        },
        "id": "aQx0_F9js9Ro",
        "outputId": "0ac86bda-f50f-4ba3-b886-02cc5203c8fe"
      },
      "source": [
        "data_consumption = data[['Consumption']]\n",
        "\n",
        "# 하루 전 컬럼 생성\n",
        "data_consumption.loc[:, 'Yesterday'] = data_consumption.loc[:,'Consumption'].shift()\n",
        "\n",
        "# 어제 오늘 차이 컬럼 생성\n",
        "data_consumption.loc[:, 'Yesterday_Diff'] = data_consumption.loc[:, 'Yesterday'].diff()\n",
        "\n",
        "# 결측치 제거\n",
        "data_consumption = data_consumption.dropna()"
      ],
      "execution_count": null,
      "outputs": [
        {
          "output_type": "stream",
          "name": "stderr",
          "text": [
            "/usr/local/lib/python3.7/dist-packages/pandas/core/indexing.py:1596: SettingWithCopyWarning: \n",
            "A value is trying to be set on a copy of a slice from a DataFrame.\n",
            "Try using .loc[row_indexer,col_indexer] = value instead\n",
            "\n",
            "See the caveats in the documentation: https://pandas.pydata.org/pandas-docs/stable/user_guide/indexing.html#returning-a-view-versus-a-copy\n",
            "  self.obj[key] = _infer_fill_value(value)\n",
            "/usr/local/lib/python3.7/dist-packages/pandas/core/indexing.py:1781: SettingWithCopyWarning: \n",
            "A value is trying to be set on a copy of a slice from a DataFrame.\n",
            "Try using .loc[row_indexer,col_indexer] = value instead\n",
            "\n",
            "See the caveats in the documentation: https://pandas.pydata.org/pandas-docs/stable/user_guide/indexing.html#returning-a-view-versus-a-copy\n",
            "  self.obj[item_labels[indexer[info_axis]]] = value\n"
          ]
        }
      ]
    },
    {
      "cell_type": "code",
      "metadata": {
        "id": "VP-WC8bvs9Tz"
      },
      "source": [
        "# 학습 / 테스트 데이터 생성\n",
        "X_train = data_consumption[:'2016'].drop(['Consumption'], axis = 1)\n",
        "y_train = data_consumption.loc[:'2016', 'Consumption']\n",
        "X_test = data_consumption['2017'].drop(['Consumption'], axis = 1)\n",
        "y_test = data_consumption.loc['2017', 'Consumption']"
      ],
      "execution_count": null,
      "outputs": []
    },
    {
      "cell_type": "code",
      "metadata": {
        "colab": {
          "base_uri": "https://localhost:8080/",
          "height": 1000
        },
        "id": "tl94xdmks9Vu",
        "outputId": "921291e4-484f-4a39-f5f4-1dcddf40d994"
      },
      "source": [
        "# TimeSeriesSplit KFold\n",
        "\n",
        "from sklearn.model_selection import TimeSeriesSplit\n",
        "from sklearn.linear_model import LinearRegression\n",
        "from sklearn.ensemble import RandomForestRegressor\n",
        "from sklearn.svm import SVR\n",
        "from sklearn.neighbors import KNeighborsRegressor\n",
        "from sklearn.neural_network import MLPRegressor\n",
        "from sklearn.model_selection import cross_val_score\n",
        "\n",
        "import matplotlib.pyplot as plt\n",
        "\n",
        "models = []\n",
        "models.append(('LR', LinearRegression()))\n",
        "models.append(('NN', MLPRegressor(solver = 'lbfgs')))  #neural network\n",
        "models.append(('KNN', KNeighborsRegressor())) \n",
        "models.append(('RF', RandomForestRegressor(n_estimators = 10))) # Ensemble method - collection of many decision trees\n",
        "models.append(('SVR', SVR(gamma='auto'))) # kernel = linear\n",
        "# Evaluate each model in turn\n",
        "results = []\n",
        "names = []\n",
        "for name, model in models:\n",
        "    # TimeSeries Cross validation\n",
        " tscv = TimeSeriesSplit(n_splits=10)\n",
        "    \n",
        " cv_results = cross_val_score(model, X_train, y_train, cv=tscv, scoring='r2')\n",
        " results.append(cv_results)\n",
        " names.append(name)\n",
        " print('%s: %f (%f)' % (name, cv_results.mean(), cv_results.std()))\n",
        "    \n",
        "# Compare Algorithms\n",
        "plt.boxplot(results, labels=names)\n",
        "plt.title('Algorithm Comparison')\n",
        "plt.show()"
      ],
      "execution_count": null,
      "outputs": [
        {
          "output_type": "stream",
          "name": "stdout",
          "text": [
            "LR: 0.343747 (0.029773)\n"
          ]
        },
        {
          "output_type": "stream",
          "name": "stderr",
          "text": [
            "/usr/local/lib/python3.7/dist-packages/sklearn/neural_network/_multilayer_perceptron.py:470: ConvergenceWarning: lbfgs failed to converge (status=1):\n",
            "STOP: TOTAL NO. of ITERATIONS REACHED LIMIT.\n",
            "\n",
            "Increase the number of iterations (max_iter) or scale the data as shown in:\n",
            "    https://scikit-learn.org/stable/modules/preprocessing.html\n",
            "  self.n_iter_ = _check_optimize_result(\"lbfgs\", opt_res, self.max_iter)\n",
            "/usr/local/lib/python3.7/dist-packages/sklearn/neural_network/_multilayer_perceptron.py:470: ConvergenceWarning: lbfgs failed to converge (status=1):\n",
            "STOP: TOTAL NO. of ITERATIONS REACHED LIMIT.\n",
            "\n",
            "Increase the number of iterations (max_iter) or scale the data as shown in:\n",
            "    https://scikit-learn.org/stable/modules/preprocessing.html\n",
            "  self.n_iter_ = _check_optimize_result(\"lbfgs\", opt_res, self.max_iter)\n",
            "/usr/local/lib/python3.7/dist-packages/sklearn/neural_network/_multilayer_perceptron.py:470: ConvergenceWarning: lbfgs failed to converge (status=1):\n",
            "STOP: TOTAL NO. of ITERATIONS REACHED LIMIT.\n",
            "\n",
            "Increase the number of iterations (max_iter) or scale the data as shown in:\n",
            "    https://scikit-learn.org/stable/modules/preprocessing.html\n",
            "  self.n_iter_ = _check_optimize_result(\"lbfgs\", opt_res, self.max_iter)\n",
            "/usr/local/lib/python3.7/dist-packages/sklearn/neural_network/_multilayer_perceptron.py:470: ConvergenceWarning: lbfgs failed to converge (status=1):\n",
            "STOP: TOTAL NO. of ITERATIONS REACHED LIMIT.\n",
            "\n",
            "Increase the number of iterations (max_iter) or scale the data as shown in:\n",
            "    https://scikit-learn.org/stable/modules/preprocessing.html\n",
            "  self.n_iter_ = _check_optimize_result(\"lbfgs\", opt_res, self.max_iter)\n",
            "/usr/local/lib/python3.7/dist-packages/sklearn/neural_network/_multilayer_perceptron.py:470: ConvergenceWarning: lbfgs failed to converge (status=1):\n",
            "STOP: TOTAL NO. of ITERATIONS REACHED LIMIT.\n",
            "\n",
            "Increase the number of iterations (max_iter) or scale the data as shown in:\n",
            "    https://scikit-learn.org/stable/modules/preprocessing.html\n",
            "  self.n_iter_ = _check_optimize_result(\"lbfgs\", opt_res, self.max_iter)\n",
            "/usr/local/lib/python3.7/dist-packages/sklearn/neural_network/_multilayer_perceptron.py:470: ConvergenceWarning: lbfgs failed to converge (status=1):\n",
            "STOP: TOTAL NO. of ITERATIONS REACHED LIMIT.\n",
            "\n",
            "Increase the number of iterations (max_iter) or scale the data as shown in:\n",
            "    https://scikit-learn.org/stable/modules/preprocessing.html\n",
            "  self.n_iter_ = _check_optimize_result(\"lbfgs\", opt_res, self.max_iter)\n",
            "/usr/local/lib/python3.7/dist-packages/sklearn/neural_network/_multilayer_perceptron.py:470: ConvergenceWarning: lbfgs failed to converge (status=1):\n",
            "STOP: TOTAL NO. of ITERATIONS REACHED LIMIT.\n",
            "\n",
            "Increase the number of iterations (max_iter) or scale the data as shown in:\n",
            "    https://scikit-learn.org/stable/modules/preprocessing.html\n",
            "  self.n_iter_ = _check_optimize_result(\"lbfgs\", opt_res, self.max_iter)\n",
            "/usr/local/lib/python3.7/dist-packages/sklearn/neural_network/_multilayer_perceptron.py:470: ConvergenceWarning: lbfgs failed to converge (status=1):\n",
            "STOP: TOTAL NO. of ITERATIONS REACHED LIMIT.\n",
            "\n",
            "Increase the number of iterations (max_iter) or scale the data as shown in:\n",
            "    https://scikit-learn.org/stable/modules/preprocessing.html\n",
            "  self.n_iter_ = _check_optimize_result(\"lbfgs\", opt_res, self.max_iter)\n",
            "/usr/local/lib/python3.7/dist-packages/sklearn/neural_network/_multilayer_perceptron.py:470: ConvergenceWarning: lbfgs failed to converge (status=1):\n",
            "STOP: TOTAL NO. of ITERATIONS REACHED LIMIT.\n",
            "\n",
            "Increase the number of iterations (max_iter) or scale the data as shown in:\n",
            "    https://scikit-learn.org/stable/modules/preprocessing.html\n",
            "  self.n_iter_ = _check_optimize_result(\"lbfgs\", opt_res, self.max_iter)\n"
          ]
        },
        {
          "output_type": "stream",
          "name": "stdout",
          "text": [
            "NN: 0.523017 (0.104532)\n",
            "KNN: 0.646307 (0.083185)\n",
            "RF: 0.611748 (0.084410)\n",
            "SVR: -0.117944 (0.157755)\n"
          ]
        },
        {
          "output_type": "display_data",
          "data": {
            "image/png": "[encoded data removed]",
            "text/plain": [
              "<Figure size 432x288 with 1 Axes>"
            ]
          },
          "metadata": {
            "needs_background": "light"
          }
        }
      ]
    },
    {
      "cell_type": "code",
      "metadata": {
        "id": "cu3CJpejs9Xu"
      },
      "source": [
        "# 하이퍼 파라미터 최적화\n",
        "\n",
        "from sklearn.metrics import make_scorer\n",
        "\n",
        "def rmse(actual, predict):\n",
        "    predict = np.array(predict)\n",
        "    actual = np.array(actual)\n",
        "    distance = predict - actual\n",
        "    square_distance = distance ** 2\n",
        "    mean_square_distance = square_distance.mean()\n",
        "    score = np.sqrt(mean_square_distance)\n",
        "    return score\n",
        "\n",
        "rmse_score = make_scorer(rmse, greater_is_better = False)\n",
        "\n",
        "from sklearn.model_selection import GridSearchCV\n",
        "model = RandomForestRegressor()\n",
        "param_search = { \n",
        "    'n_estimators': [20, 50, 100],\n",
        "    'max_features': ['auto', 'sqrt', 'log2'],\n",
        "    'max_depth' : [i for i in range(5,15)]\n",
        "}\n",
        "tscv = TimeSeriesSplit(n_splits=10)\n",
        "gsearch = GridSearchCV(estimator=model, cv=tscv, param_grid=param_search, scoring = rmse_score)\n",
        "gsearch.fit(X_train, y_train)\n",
        "best_score = gsearch.best_score_\n",
        "best_model = gsearch.best_estimator_"
      ],
      "execution_count": null,
      "outputs": []
    },
    {
      "cell_type": "code",
      "metadata": {
        "colab": {
          "base_uri": "https://localhost:8080/"
        },
        "id": "TvTbZ8gYs9Zs",
        "outputId": "c4ff51d3-b8c9-4d82-da73-e7618df17498"
      },
      "source": [
        "y_true = y_test.values\n",
        "y_pred = best_model.predict(X_test)\n",
        "regression_results(y_true, y_pred)"
      ],
      "execution_count": null,
      "outputs": [
        {
          "output_type": "stream",
          "name": "stdout",
          "text": [
            "explained_variance:  0.7349\n",
            "mean_squared_log_error:  0.004\n",
            "r2:  0.7328\n",
            "MAE:  54.9886\n",
            "MSE:  7234.9662\n",
            "RMSE:  85.0586\n"
          ]
        }
      ]
    },
    {
      "cell_type": "code",
      "metadata": {
        "id": "i0r3Pov_s9b8"
      },
      "source": [
        "# t-1일의 값을 사용하여 t값을 예측했다. 이제 (t-2)일의 값을 사용하여 소비량을 예측\n",
        "# creating copy of original dataframe\n",
        "data_consumption_2o = data_consumption.copy()\n",
        "# inserting column with yesterday-1 values\n",
        "data_consumption_2o['Yesterday-1'] = data_consumption_2o['Yesterday'].shift()\n",
        "# inserting column with difference in yesterday-1 and yesterday-2 values.\n",
        "data_consumption_2o['Yesterday-1_Diff'] = data_consumption_2o['Yesterday-1'].diff()\n",
        "# dropping NAs\n",
        "data_consumption_2o = data_consumption_2o.dropna()"
      ],
      "execution_count": null,
      "outputs": []
    },
    {
      "cell_type": "code",
      "metadata": {
        "id": "MEpLeYh2tJ61"
      },
      "source": [
        "X_train_2o = data_consumption_2o[:'2016'].drop(['Consumption'], axis = 1)\n",
        "y_train_2o = data_consumption_2o.loc[:'2016', 'Consumption']\n",
        "X_test = data_consumption_2o['2017'].drop(['Consumption'], axis = 1)\n",
        "y_test = data_consumption_2o.loc['2017', 'Consumption']"
      ],
      "execution_count": null,
      "outputs": []
    },
    {
      "cell_type": "code",
      "metadata": {
        "colab": {
          "base_uri": "https://localhost:8080/"
        },
        "id": "zZVZWFzvtJ8p",
        "outputId": "68c35c75-5d28-47b2-8fdc-82d5fd969ccb"
      },
      "source": [
        "model = RandomForestRegressor()\n",
        "param_search = { \n",
        "    'n_estimators': [20, 50, 100],\n",
        "    'max_features': ['auto', 'sqrt', 'log2'],\n",
        "    'max_depth' : [i for i in range(5,15)]\n",
        "}\n",
        "tscv = TimeSeriesSplit(n_splits=10)\n",
        "gsearch = GridSearchCV(estimator=model, cv=tscv, param_grid=param_search, scoring = rmse_score)\n",
        "gsearch.fit(X_train_2o, y_train_2o)\n",
        "best_score = gsearch.best_score_\n",
        "best_model = gsearch.best_estimator_\n",
        "y_true = y_test.values\n",
        "y_pred = best_model.predict(X_test)\n",
        "regression_results(y_true, y_pred)"
      ],
      "execution_count": null,
      "outputs": [
        {
          "output_type": "stream",
          "name": "stdout",
          "text": [
            "explained_variance:  0.8412\n",
            "mean_squared_log_error:  0.0025\n",
            "r2:  0.8412\n",
            "MAE:  40.5539\n",
            "MSE:  4301.681\n",
            "RMSE:  65.5872\n"
          ]
        }
      ]
    },
    {
      "cell_type": "code",
      "metadata": {
        "id": "_IlMEM9KtJ--"
      },
      "source": [
        "# 태양열 생산의 가치를 더하는 것이 전기 소비를 예측하는 데 어떤면에서 도움이되는지 살펴 보겠습니다.\n",
        "data_consumption_2o_solar = data_consumption_2o.join(data[['Solar']])\n",
        "data_consumption_2o_solar = data_consumption_2o_solar.dropna()"
      ],
      "execution_count": null,
      "outputs": []
    },
    {
      "cell_type": "code",
      "metadata": {
        "colab": {
          "base_uri": "https://localhost:8080/"
        },
        "id": "xCTiOZrQtL7q",
        "outputId": "d859dfda-ccc8-47c0-9288-bc5cbf4493d1"
      },
      "source": [
        "X_train_2o_solar = data_consumption_2o_solar[:'2016'].drop(['Consumption'], axis = 1)\n",
        "y_train_2o_solar = data_consumption_2o_solar.loc[:'2016', 'Consumption']\n",
        "X_test = data_consumption_2o_solar['2017'].drop(['Consumption'], axis = 1)\n",
        "y_test = data_consumption_2o_solar.loc['2017', 'Consumption']\n",
        "model = RandomForestRegressor()\n",
        "param_search = { \n",
        "    'n_estimators': [20, 50, 100],\n",
        "    'max_features': ['auto', 'sqrt', 'log2'],\n",
        "    'max_depth' : [i for i in range(5,15)]\n",
        "}\n",
        "tscv = TimeSeriesSplit(n_splits=5)\n",
        "gsearch = GridSearchCV(estimator=model, cv=tscv, param_grid=param_search, scoring = rmse_score)\n",
        "gsearch.fit(X_train_2o_solar, y_train_2o_solar)\n",
        "best_score = gsearch.best_score_\n",
        "best_model = gsearch.best_estimator_\n",
        "y_true = y_test.values\n",
        "y_pred = best_model.predict(X_test)\n",
        "regression_results(y_true, y_pred)"
      ],
      "execution_count": null,
      "outputs": [
        {
          "output_type": "stream",
          "name": "stdout",
          "text": [
            "explained_variance:  0.837\n",
            "mean_squared_log_error:  0.0025\n",
            "r2:  0.8367\n",
            "MAE:  40.4503\n",
            "MSE:  4421.2302\n",
            "RMSE:  66.4923\n"
          ]
        }
      ]
    },
    {
      "cell_type": "code",
      "metadata": {
        "colab": {
          "base_uri": "https://localhost:8080/",
          "height": 295
        },
        "id": "pWwQY9h2tNFt",
        "outputId": "48d4ccd2-37ff-44e1-8a8b-22ebd9a29298"
      },
      "source": [
        "# 변수 중요도 파악\n",
        "imp = best_model.feature_importances_\n",
        "features = X_train_2o_solar.columns\n",
        "indices = np.argsort(imp)\n",
        "plt.title('Feature Importances')\n",
        "plt.barh(range(len(indices)), imp[indices], color='b', align='center')\n",
        "plt.yticks(range(len(indices)), [features[i] for i in indices])\n",
        "plt.xlabel('Relative Importance')\n",
        "plt.show()"
      ],
      "execution_count": null,
      "outputs": [
        {
          "output_type": "display_data",
          "data": {
            "image/png": "[encoded data removed]",
            "text/plain": [
              "<Figure size 432x288 with 1 Axes>"
            ]
          },
          "metadata": {
            "needs_background": "light"
          }
        }
      ]
    },
    {
      "cell_type": "code",
      "metadata": {
        "id": "hagsYOpXtNfX"
      },
      "source": [
        "# 데이터 세트에 계절적 요소가 있다는 것을 기억할 것입니다. 더 정확하게는 주간 계절성이 있습니다. \n",
        "# 따라서 주어진 날짜 이전 주에 모델에 대한 입력, 소비 값으로 공급하는 것이 더 합리적입니다. \n",
        "# 즉, 모델이 1 월 8 일에 소비 가치를 예측하려는 경우 1 월 1 일에 소비에 대한 정보를 제공해야합니다\n",
        "\n",
        "data_consumption_2o_solar_weeklyShift = data_consumption_2o_solar.copy()\n",
        "data_consumption_2o_solar_weeklyShift['Last_Week'] = data_consumption_2o_solar['Consumption'].shift(7)\n",
        "data_consumption_2o_solar_weeklyShift = data_consumption_2o_solar_weeklyShift.dropna()"
      ],
      "execution_count": null,
      "outputs": []
    },
    {
      "cell_type": "code",
      "metadata": {
        "colab": {
          "base_uri": "https://localhost:8080/"
        },
        "id": "Rx-J0jLktOT4",
        "outputId": "b678daa8-9bed-4c77-8d3e-97685efe039b"
      },
      "source": [
        "X_train_2o_solar_weeklyShift = data_consumption_2o_solar_weeklyShift[:'2016'].drop(['Consumption'], axis = 1)\n",
        "y_train_2o_solar_weeklyShift = data_consumption_2o_solar_weeklyShift.loc[:'2016', 'Consumption']\n",
        "X_test = data_consumption_2o_solar_weeklyShift['2017'].drop(['Consumption'], axis = 1)\n",
        "y_test = data_consumption_2o_solar_weeklyShift.loc['2017', 'Consumption']\n",
        "model = RandomForestRegressor()\n",
        "param_search = { \n",
        "    'n_estimators': [20, 50, 100],\n",
        "    'max_features': ['auto', 'sqrt', 'log2'],\n",
        "    'max_depth' : [i for i in range(5,15)]\n",
        "}\n",
        "tscv = TimeSeriesSplit(n_splits=10)\n",
        "gsearch = GridSearchCV(estimator=model, cv=tscv, param_grid=param_search, scoring = rmse_score)\n",
        "gsearch.fit(X_train_2o_solar_weeklyShift, y_train_2o_solar_weeklyShift)\n",
        "best_score = gsearch.best_score_\n",
        "best_model = gsearch.best_estimator_\n",
        "y_true = y_test.values\n",
        "y_pred = best_model.predict(X_test)\n",
        "regression_results(y_true, y_pred)"
      ],
      "execution_count": null,
      "outputs": [
        {
          "output_type": "stream",
          "name": "stdout",
          "text": [
            "explained_variance:  0.8924\n",
            "mean_squared_log_error:  0.0017\n",
            "r2:  0.8918\n",
            "MAE:  31.3372\n",
            "MSE:  2931.0662\n",
            "RMSE:  54.1393\n"
          ]
        }
      ]
    },
    {
      "cell_type": "code",
      "metadata": {
        "id": "uOizVQr8tPMG"
      },
      "source": [
        "# 우리가 올바르게 가정했듯이, 일의 값은 (t-7)일의 값보다 훨씬 더 강력한 예측 변수 (t-1)입니다.\n",
        "\n",
        "# 시계열 데이터에 대한 교차 검증을 수행하고, 모델 하이퍼 파라미터를 미세 조정하는 방법을 배웠습니다. \n",
        "# 또한 전력 소비 예측을 위해 RMSE를 85.61에서 54.57로 성공적으로 줄였습니다."
      ],
      "execution_count": null,
      "outputs": []
    }
  ]
}